{
 "cells": [
  {
   "cell_type": "code",
   "execution_count": 35,
   "id": "014fec88",
   "metadata": {},
   "outputs": [],
   "source": [
    "import numpy as np\n",
    "import matplotlib.pyplot as plt #Библиотека для работы с графикой\n",
    "%matplotlib inline\n",
    "from math import pi# Библиотека, содержащая в себе число Pi\n",
    "from scipy.optimize import brentq# метод для вычисления корней кубического уравнения"
   ]
  },
  {
   "cell_type": "markdown",
   "id": "60ec156b",
   "metadata": {},
   "source": [
    "#                                               Закон Архимеда\n",
    "\n",
    "##                                          Пронина Александра(3821Б1ПР1)\n",
    "\n",
    "###                                                                         (Задача 41)\n",
    "\n",
    "\n",
    "Сила Архимеда равна: \\begin{gather*}F_a=p_0 gV_0\\end{gather*},где  $p_0$ -плотность жидкость,которую погружено тело;\n",
    "                                                                    $V_0$ -объём погруженной части тела;\n",
    "                                                                    $g$ -ускорение свободного падения\n",
    "                                                                    \n",
    "Согласно второму закону Ньютона:\n",
    "\\begin{gather*}\n",
    "F_a-mg=0\n",
    "\\\\\n",
    "\\\\\n",
    "p_0gV_0-mg=0\n",
    "\\\\\n",
    "\\\\\n",
    "p_0gV_0=mg\n",
    "\\\\\n",
    "\\\\\n",
    "p_0gV_0=pVg\n",
    "\\end{gather*}\n",
    "\n",
    "Подставляет вместо $V_0$ формулу шарового сегмента:\n",
    "$\n",
    "V_0=\\frac{1}{3}{\\pi}h^2(3R-h)\n",
    "$\n",
    "\n",
    "Получаем итоговую формулу:\n",
    "\\begin{gather*}\n",
    "p_0h^2R-\\frac{p_0h^3}{3}=\\frac{4}{3}pR\n",
    "\\end{gather*}\n",
    "\n",
    "Домножим обе части на 3:\n",
    "\\begin{gather*}\n",
    "3p_0h^2R-p_0h^3=4pR\n",
    "\\end{gather*}\n",
    "\n",
    "Наложим ограничения на $h$:\n",
    "\n",
    "1)Так как известно,что шарит плавает,а не всплывает,то,значит,его высота не может быть отрицательной. Гарантированно $ h > 0 $\n",
    "\n",
    "2)По условию объём погруженной части должен быть больше нуля, так как,исходя из условия,шарик плавает. В формуле $h$ в чётной степени,значит, точно положительный множитель. ${ \\pi }$-априори положительная константа. Значит,решающей является скобка $3R-h$. $3R>h$\n",
    "\n",
    "Значит, h принадлежит отрезку:\n",
    "$$\n",
    "0 < h < 3R\n",
    "$$"
   ]
  },
  {
   "cell_type": "code",
   "execution_count": 363,
   "id": "c5a36ca1",
   "metadata": {},
   "outputs": [],
   "source": [
    "def f(h):\n",
    "    return 3*p0*h**2*R-p0*h**3-4*p*R       "
   ]
  },
  {
   "cell_type": "markdown",
   "id": "64e0c644",
   "metadata": {},
   "source": [
    "Рассмотрим 2 предложенных случая: "
   ]
  },
  {
   "cell_type": "code",
   "execution_count": 364,
   "id": "c96cab18",
   "metadata": {},
   "outputs": [],
   "source": [
    "#a\n",
    "R = 1\n",
    "p = 500\n",
    "p0 = 1000"
   ]
  },
  {
   "cell_type": "code",
   "execution_count": 365,
   "id": "5388b806",
   "metadata": {},
   "outputs": [],
   "source": [
    "a = 0\n",
    "b = 2.02040816#значение аргyмента,на котором достигается максимум функции"
   ]
  },
  {
   "cell_type": "code",
   "execution_count": 379,
   "id": "e5837339",
   "metadata": {},
   "outputs": [
    {
     "data": {
      "text/plain": [
       "(-3000.0, 986.7457950970911)"
      ]
     },
     "execution_count": 379,
     "metadata": {},
     "output_type": "execute_result"
    }
   ],
   "source": [
    "f(a), f(b)# проверка значений на концах отрезка"
   ]
  },
  {
   "cell_type": "code",
   "execution_count": 380,
   "id": "0244ef44",
   "metadata": {},
   "outputs": [],
   "source": [
    "pp = np.linspace(500, 760)#границы определены из факта,что плотность тела не может быть больше плотности жидности\n",
    "#однако если плотность очень маленькая,то тело всплывёт\n",
    "hh = np.zeros(len(pp))\n",
    "for p in pp:\n",
    "    hh = brentq(f,a,b)"
   ]
  },
  {
   "cell_type": "code",
   "execution_count": 381,
   "id": "4689d120",
   "metadata": {},
   "outputs": [
    {
     "data": {
      "text/plain": [
       "946.7457946943869"
      ]
     },
     "execution_count": 381,
     "metadata": {},
     "output_type": "execute_result"
    },
    {
     "name": "stdout",
     "output_type": "stream",
     "text": [
      "[-3040.         -3029.01722922 -2996.98414776 -2945.27360199\n",
      " -2875.25843824 -2788.31150286 -2685.80564221 -2569.11370262\n",
      " -2439.60853046 -2298.66297206 -2147.64987378 -1987.94208196\n",
      " -1820.91244294 -1647.93380309 -1470.37900875 -1289.62090626\n",
      " -1107.03234197  -923.98616223  -741.85521339  -562.0123418\n",
      "  -385.8303938   -214.68221574   -49.94065398   107.02144515\n",
      "   254.83123528   392.11587009   517.50250321   629.6182883\n",
      "   727.09037901   808.54592899   872.6120919    917.91602139\n",
      "   943.0848711    946.74579469   927.52594582   884.05247813\n",
      "   814.95254528   718.85330092   594.3818987    440.16549227\n",
      "   254.83123528    37.0062814   -214.68221574  -501.60710248\n",
      "  -825.14122517 -1186.65743015 -1587.52856378 -2029.1274724\n",
      " -2512.82700235 -3040.        ]\n",
      "[0.         0.06122449 0.12244898 0.18367347 0.24489796 0.30612245\n",
      " 0.36734694 0.42857143 0.48979592 0.55102041 0.6122449  0.67346939\n",
      " 0.73469388 0.79591837 0.85714286 0.91836735 0.97959184 1.04081633\n",
      " 1.10204082 1.16326531 1.2244898  1.28571429 1.34693878 1.40816327\n",
      " 1.46938776 1.53061224 1.59183673 1.65306122 1.71428571 1.7755102\n",
      " 1.83673469 1.89795918 1.95918367 2.02040816 2.08163265 2.14285714\n",
      " 2.20408163 2.26530612 2.32653061 2.3877551  2.44897959 2.51020408\n",
      " 2.57142857 2.63265306 2.69387755 2.75510204 2.81632653 2.87755102\n",
      " 2.93877551 3.        ]\n"
     ]
    },
    {
     "data": {
      "text/plain": [
       "[<matplotlib.lines.Line2D at 0x222e62e6490>]"
      ]
     },
     "execution_count": 381,
     "metadata": {},
     "output_type": "execute_result"
    },
    {
     "data": {
      "image/png": "[encoded data removed]",
      "text/plain": [
       "<Figure size 432x288 with 1 Axes>"
      ]
     },
     "metadata": {
      "needs_background": "light"
     },
     "output_type": "display_data"
    }
   ],
   "source": [
    "hh = np.linspace(0, 3*R)\n",
    "max(f(hh))\n",
    "print(f(hh))\n",
    "print(hh)\n",
    "plt.grid() \n",
    "plt.plot(hh,f(hh))"
   ]
  },
  {
   "cell_type": "markdown",
   "id": "7aacf319",
   "metadata": {},
   "source": [
    "Можно заметить,что на графике 2 положительных корня. Проанализируем,какой из них нужно брать: жидкость очень плотная в сравнении с шаром,она не даст ему глубоко погрузится. Следовательно,выбирается меньших корень и отрезок от нуля до максимума функции:"
   ]
  },
  {
   "cell_type": "code",
   "execution_count": 382,
   "id": "bea77107",
   "metadata": {},
   "outputs": [
    {
     "data": {
      "text/plain": [
       "1.3660674882293533"
      ]
     },
     "execution_count": 382,
     "metadata": {},
     "output_type": "execute_result"
    }
   ],
   "source": [
    "brentq(f,a,b)"
   ]
  },
  {
   "cell_type": "code",
   "execution_count": 383,
   "id": "6fc6a085",
   "metadata": {},
   "outputs": [
    {
     "data": {
      "text/plain": [
       "[<matplotlib.lines.Line2D at 0x222e63585e0>]"
      ]
     },
     "execution_count": 383,
     "metadata": {},
     "output_type": "execute_result"
    },
    {
     "data": {
      "image/png": "[encoded data removed]",
      "text/plain": [
       "<Figure size 432x288 with 1 Axes>"
      ]
     },
     "metadata": {
      "needs_background": "light"
     },
     "output_type": "display_data"
    }
   ],
   "source": [
    "plt.grid() \n",
    "plt.plot(hh,pp,\"+\")"
   ]
  },
  {
   "cell_type": "code",
   "execution_count": 384,
   "id": "9d073028",
   "metadata": {},
   "outputs": [],
   "source": [
    "#b\n",
    "R = 1\n",
    "p = 755\n",
    "p0 = 997"
   ]
  },
  {
   "cell_type": "code",
   "execution_count": 385,
   "id": "1856f95a",
   "metadata": {},
   "outputs": [],
   "source": [
    "c=0\n",
    "d=2.02040816 "
   ]
  },
  {
   "cell_type": "code",
   "execution_count": 387,
   "id": "92bf3297",
   "metadata": {},
   "outputs": [
    {
     "data": {
      "text/plain": [
       "(-3020, 966.7457950970911)"
      ]
     },
     "execution_count": 387,
     "metadata": {},
     "output_type": "execute_result"
    }
   ],
   "source": [
    "f(c), f(d)# проверка значений на концах отрезка"
   ]
  },
  {
   "cell_type": "code",
   "execution_count": 388,
   "id": "57395c08",
   "metadata": {},
   "outputs": [],
   "source": [
    "pp1 = np.linspace(550, 760)\n",
    "hh1 = np.zeros(len(pp1))\n",
    "for p in pp:\n",
    "    hh1 = brentq(f,c,d)"
   ]
  },
  {
   "cell_type": "code",
   "execution_count": 389,
   "id": "f83c0941",
   "metadata": {},
   "outputs": [
    {
     "data": {
      "text/plain": [
       "946.7457946943869"
      ]
     },
     "execution_count": 389,
     "metadata": {},
     "output_type": "execute_result"
    },
    {
     "name": "stdout",
     "output_type": "stream",
     "text": [
      "[-3040.         -3029.01722922 -2996.98414776 -2945.27360199\n",
      " -2875.25843824 -2788.31150286 -2685.80564221 -2569.11370262\n",
      " -2439.60853046 -2298.66297206 -2147.64987378 -1987.94208196\n",
      " -1820.91244294 -1647.93380309 -1470.37900875 -1289.62090626\n",
      " -1107.03234197  -923.98616223  -741.85521339  -562.0123418\n",
      "  -385.8303938   -214.68221574   -49.94065398   107.02144515\n",
      "   254.83123528   392.11587009   517.50250321   629.6182883\n",
      "   727.09037901   808.54592899   872.6120919    917.91602139\n",
      "   943.0848711    946.74579469   927.52594582   884.05247813\n",
      "   814.95254528   718.85330092   594.3818987    440.16549227\n",
      "   254.83123528    37.0062814   -214.68221574  -501.60710248\n",
      "  -825.14122517 -1186.65743015 -1587.52856378 -2029.1274724\n",
      " -2512.82700235 -3040.        ]\n",
      "[0.         0.06122449 0.12244898 0.18367347 0.24489796 0.30612245\n",
      " 0.36734694 0.42857143 0.48979592 0.55102041 0.6122449  0.67346939\n",
      " 0.73469388 0.79591837 0.85714286 0.91836735 0.97959184 1.04081633\n",
      " 1.10204082 1.16326531 1.2244898  1.28571429 1.34693878 1.40816327\n",
      " 1.46938776 1.53061224 1.59183673 1.65306122 1.71428571 1.7755102\n",
      " 1.83673469 1.89795918 1.95918367 2.02040816 2.08163265 2.14285714\n",
      " 2.20408163 2.26530612 2.32653061 2.3877551  2.44897959 2.51020408\n",
      " 2.57142857 2.63265306 2.69387755 2.75510204 2.81632653 2.87755102\n",
      " 2.93877551 3.        ]\n"
     ]
    },
    {
     "data": {
      "text/plain": [
       "[<matplotlib.lines.Line2D at 0x222e63c0a60>]"
      ]
     },
     "execution_count": 389,
     "metadata": {},
     "output_type": "execute_result"
    },
    {
     "data": {
      "image/png": "[encoded data removed]",
      "text/plain": [
       "<Figure size 432x288 with 1 Axes>"
      ]
     },
     "metadata": {
      "needs_background": "light"
     },
     "output_type": "display_data"
    }
   ],
   "source": [
    "hh1 = np.linspace(0, 3*R)\n",
    "max(f(hh1))\n",
    "print(f(hh1))\n",
    "print(hh1)\n",
    "plt.grid() \n",
    "plt.plot(hh1,f(hh1))"
   ]
  },
  {
   "cell_type": "markdown",
   "id": "a877ee82",
   "metadata": {},
   "source": [
    "Можно заметить,что на графике 2 положительных корня. Проанализируем,какой из них нужно брать: жидкость очень плотная в сравнении с шаром,она не даст ему глубоко погрузится. Следовательно,выбирается меньших корень и отрезок от нуля до максимума функции:"
   ]
  },
  {
   "cell_type": "code",
   "execution_count": 390,
   "id": "1c1e402c",
   "metadata": {},
   "outputs": [
    {
     "data": {
      "text/plain": [
       "1.3660674882293533"
      ]
     },
     "execution_count": 390,
     "metadata": {},
     "output_type": "execute_result"
    }
   ],
   "source": [
    "brentq(f,c,d)"
   ]
  },
  {
   "cell_type": "code",
   "execution_count": 391,
   "id": "ce46edc9",
   "metadata": {
    "scrolled": true
   },
   "outputs": [
    {
     "data": {
      "text/plain": [
       "[<matplotlib.lines.Line2D at 0x222e49b3520>]"
      ]
     },
     "execution_count": 391,
     "metadata": {},
     "output_type": "execute_result"
    },
    {
     "data": {
      "image/png": "[encoded data removed]",
      "text/plain": [
       "<Figure size 432x288 with 1 Axes>"
      ]
     },
     "metadata": {
      "needs_background": "light"
     },
     "output_type": "display_data"
    }
   ],
   "source": [
    "plt.grid() \n",
    "plt.plot(hh1,pp1,\"*\")"
   ]
  }
 ],
 "metadata": {
  "kernelspec": {
   "display_name": "Python 3 (ipykernel)",
   "language": "python",
   "name": "python3"
  },
  "language_info": {
   "codemirror_mode": {
    "name": "ipython",
    "version": 3
   },
   "file_extension": ".py",
   "mimetype": "text/x-python",
   "name": "python",
   "nbconvert_exporter": "python",
   "pygments_lexer": "ipython3",
   "version": "3.9.7"
  }
 },
 "nbformat": 4,
 "nbformat_minor": 5
}
